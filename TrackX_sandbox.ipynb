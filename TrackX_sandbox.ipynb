{
 "cells": [
  {
   "cell_type": "code",
   "execution_count": 2,
   "metadata": {},
   "outputs": [
    {
     "ename": "ValueError",
     "evalue": "At least one array has zero dimension",
     "output_type": "error",
     "traceback": [
      "\u001b[0;31m---------------------------------------------------------------------------\u001b[0m",
      "\u001b[0;31mValueError\u001b[0m                                Traceback (most recent call last)",
      "Cell \u001b[0;32mIn[2], line 28\u001b[0m\n\u001b[1;32m     25\u001b[0m     electron_simulation\u001b[38;5;241m.\u001b[39mplot_trajectory_with_lorentz_force()\n\u001b[1;32m     27\u001b[0m \u001b[38;5;66;03m# Run the simulation\u001b[39;00m\n\u001b[0;32m---> 28\u001b[0m \u001b[43msimulate_particles\u001b[49m\u001b[43m(\u001b[49m\u001b[43m)\u001b[49m\n",
      "Cell \u001b[0;32mIn[2], line 25\u001b[0m, in \u001b[0;36msimulate_particles\u001b[0;34m()\u001b[0m\n\u001b[1;32m     22\u001b[0m electron_simulation\u001b[38;5;241m.\u001b[39mrun()\n\u001b[1;32m     24\u001b[0m \u001b[38;5;66;03m# Plot the trajectory with the magnetic field\u001b[39;00m\n\u001b[0;32m---> 25\u001b[0m \u001b[43melectron_simulation\u001b[49m\u001b[38;5;241;43m.\u001b[39;49m\u001b[43mplot_trajectory_with_lorentz_force\u001b[49m\u001b[43m(\u001b[49m\u001b[43m)\u001b[49m\n",
      "File \u001b[0;32m~/Documents/GitHub/TrackExtrapolation/RK4_sim.py:53\u001b[0m, in \u001b[0;36mSimulation.plot_trajectory_with_lorentz_force\u001b[0;34m(self)\u001b[0m\n\u001b[1;32m     50\u001b[0m z \u001b[38;5;241m=\u001b[39m positions[:, \u001b[38;5;241m2\u001b[39m]\n\u001b[1;32m     52\u001b[0m \u001b[38;5;66;03m# Calculate Lorentz forces at each point\u001b[39;00m\n\u001b[0;32m---> 53\u001b[0m lorentz_forces \u001b[38;5;241m=\u001b[39m np\u001b[38;5;241m.\u001b[39marray([\u001b[38;5;28mself\u001b[39m\u001b[38;5;241m.\u001b[39mlorentz_force(velo, pos) \u001b[38;5;28;01mfor\u001b[39;00m velo, pos \u001b[38;5;129;01min\u001b[39;00m \u001b[38;5;28mzip\u001b[39m(velocities,positions)])\n\u001b[1;32m     54\u001b[0m force_magnitudes \u001b[38;5;241m=\u001b[39m np\u001b[38;5;241m.\u001b[39mlinalg\u001b[38;5;241m.\u001b[39mnorm(lorentz_forces, axis\u001b[38;5;241m=\u001b[39m\u001b[38;5;241m1\u001b[39m)\n\u001b[1;32m     56\u001b[0m \u001b[38;5;66;03m# Create a 3D plot for the trajectory\u001b[39;00m\n",
      "File \u001b[0;32m~/Documents/GitHub/TrackExtrapolation/RK4_sim.py:53\u001b[0m, in \u001b[0;36m<listcomp>\u001b[0;34m(.0)\u001b[0m\n\u001b[1;32m     50\u001b[0m z \u001b[38;5;241m=\u001b[39m positions[:, \u001b[38;5;241m2\u001b[39m]\n\u001b[1;32m     52\u001b[0m \u001b[38;5;66;03m# Calculate Lorentz forces at each point\u001b[39;00m\n\u001b[0;32m---> 53\u001b[0m lorentz_forces \u001b[38;5;241m=\u001b[39m np\u001b[38;5;241m.\u001b[39marray([\u001b[38;5;28;43mself\u001b[39;49m\u001b[38;5;241;43m.\u001b[39;49m\u001b[43mlorentz_force\u001b[49m\u001b[43m(\u001b[49m\u001b[43mvelo\u001b[49m\u001b[43m,\u001b[49m\u001b[43m \u001b[49m\u001b[43mpos\u001b[49m\u001b[43m)\u001b[49m \u001b[38;5;28;01mfor\u001b[39;00m velo, pos \u001b[38;5;129;01min\u001b[39;00m \u001b[38;5;28mzip\u001b[39m(velocities,positions)])\n\u001b[1;32m     54\u001b[0m force_magnitudes \u001b[38;5;241m=\u001b[39m np\u001b[38;5;241m.\u001b[39mlinalg\u001b[38;5;241m.\u001b[39mnorm(lorentz_forces, axis\u001b[38;5;241m=\u001b[39m\u001b[38;5;241m1\u001b[39m)\n\u001b[1;32m     56\u001b[0m \u001b[38;5;66;03m# Create a 3D plot for the trajectory\u001b[39;00m\n",
      "File \u001b[0;32m~/Documents/GitHub/TrackExtrapolation/RK4_sim.py:14\u001b[0m, in \u001b[0;36mSimulation.lorentz_force\u001b[0;34m(self, velocity, position)\u001b[0m\n\u001b[1;32m     12\u001b[0m \u001b[38;5;250m\u001b[39m\u001b[38;5;124;03m\"\"\"Calculate the Lorentz force F = q(v x B) for the particle\"\"\"\u001b[39;00m\n\u001b[1;32m     13\u001b[0m B \u001b[38;5;241m=\u001b[39m \u001b[38;5;28mself\u001b[39m\u001b[38;5;241m.\u001b[39mfield\u001b[38;5;241m.\u001b[39mparabolic_field(position[\u001b[38;5;241m0\u001b[39m], position[\u001b[38;5;241m1\u001b[39m], position[\u001b[38;5;241m2\u001b[39m])\n\u001b[0;32m---> 14\u001b[0m \u001b[38;5;28;01mreturn\u001b[39;00m \u001b[43mnp\u001b[49m\u001b[38;5;241;43m.\u001b[39;49m\u001b[43mcross\u001b[49m\u001b[43m(\u001b[49m\u001b[43mvelocity\u001b[49m\u001b[43m,\u001b[49m\u001b[43m \u001b[49m\u001b[43mB\u001b[49m\u001b[43m)\u001b[49m\n",
      "File \u001b[0;32m~/anaconda3/envs/Q_env/lib/python3.10/site-packages/numpy/_core/numeric.py:1640\u001b[0m, in \u001b[0;36mcross\u001b[0;34m(a, b, axisa, axisb, axisc, axis)\u001b[0m\n\u001b[1;32m   1637\u001b[0m b \u001b[38;5;241m=\u001b[39m asarray(b)\n\u001b[1;32m   1639\u001b[0m \u001b[38;5;28;01mif\u001b[39;00m (a\u001b[38;5;241m.\u001b[39mndim \u001b[38;5;241m<\u001b[39m \u001b[38;5;241m1\u001b[39m) \u001b[38;5;129;01mor\u001b[39;00m (b\u001b[38;5;241m.\u001b[39mndim \u001b[38;5;241m<\u001b[39m \u001b[38;5;241m1\u001b[39m):\n\u001b[0;32m-> 1640\u001b[0m     \u001b[38;5;28;01mraise\u001b[39;00m \u001b[38;5;167;01mValueError\u001b[39;00m(\u001b[38;5;124m\"\u001b[39m\u001b[38;5;124mAt least one array has zero dimension\u001b[39m\u001b[38;5;124m\"\u001b[39m)\n\u001b[1;32m   1642\u001b[0m \u001b[38;5;66;03m# Check axisa and axisb are within bounds\u001b[39;00m\n\u001b[1;32m   1643\u001b[0m axisa \u001b[38;5;241m=\u001b[39m normalize_axis_index(axisa, a\u001b[38;5;241m.\u001b[39mndim, msg_prefix\u001b[38;5;241m=\u001b[39m\u001b[38;5;124m'\u001b[39m\u001b[38;5;124maxisa\u001b[39m\u001b[38;5;124m'\u001b[39m)\n",
      "\u001b[0;31mValueError\u001b[0m: At least one array has zero dimension"
     ]
    }
   ],
   "source": [
    "# main_script.py\n",
    "\n",
    "from magnetic_field import MagneticField\n",
    "from particle import Particle\n",
    "from RK4_sim import Simulation\n",
    "\n",
    "def simulate_particles():\n",
    "    B0 = 10         # Base magnetic field strength (Tesla)\n",
    "    dt = 1e-11     # Time step (seconds)\n",
    "    num_steps = 1000  # Number of steps in the simulation\n",
    "\n",
    "    # Create a magnetic field\n",
    "    magnetic_field = MagneticField(B0)\n",
    "\n",
    "    # Create a particle (charge, mass, initial position, initial velocity in the z-direction)\n",
    "    electron = Particle(charge=-1.6e-19, mass=9.11e-31, position=[0, 0, 0], velocity=[0, 0, 1e6])\n",
    "\n",
    "    # Create a simulation for the particle\n",
    "    electron_simulation = Simulation(electron, magnetic_field, dt, num_steps)\n",
    "\n",
    "    # Run simulation\n",
    "    electron_simulation.run()\n",
    "\n",
    "    # Plot the trajectory with the magnetic field\n",
    "    electron_simulation.plot_trajectory_with_lorentz_force()\n",
    "\n",
    "# Run the simulation\n",
    "simulate_particles()\n"
   ]
  },
  {
   "cell_type": "code",
   "execution_count": null,
   "metadata": {},
   "outputs": [],
   "source": []
  }
 ],
 "metadata": {
  "kernelspec": {
   "display_name": "Q_env",
   "language": "python",
   "name": "python3"
  },
  "language_info": {
   "codemirror_mode": {
    "name": "ipython",
    "version": 3
   },
   "file_extension": ".py",
   "mimetype": "text/x-python",
   "name": "python",
   "nbconvert_exporter": "python",
   "pygments_lexer": "ipython3",
   "version": "3.10.6"
  }
 },
 "nbformat": 4,
 "nbformat_minor": 2
}
